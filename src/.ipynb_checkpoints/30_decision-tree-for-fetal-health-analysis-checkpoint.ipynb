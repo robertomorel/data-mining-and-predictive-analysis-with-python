{
 "cells": [
  {
   "cell_type": "code",
   "execution_count": 1,
   "metadata": {
    "_cell_guid": "b1076dfc-b9ad-4769-8c92-a6c4dae69d19",
    "_uuid": "8f2839f25d086af736a60e9eeb907d3b93b6e0e5",
    "execution": {
     "iopub.execute_input": "2021-05-15T16:47:17.795572Z",
     "iopub.status.busy": "2021-05-15T16:47:17.794398Z",
     "iopub.status.idle": "2021-05-15T16:47:17.816305Z",
     "shell.execute_reply": "2021-05-15T16:47:17.815472Z"
    },
    "papermill": {
     "duration": 0.038703,
     "end_time": "2021-05-15T16:47:17.816489",
     "exception": false,
     "start_time": "2021-05-15T16:47:17.777786",
     "status": "completed"
    },
    "tags": []
   },
   "outputs": [],
   "source": [
    "# This Python 3 environment comes with many helpful analytics libraries installed\n",
    "# It is defined by the kaggle/python Docker image: https://github.com/kaggle/docker-python\n",
    "# For example, here's several helpful packages to load\n",
    "\n",
    "import numpy as np # linear algebra\n",
    "import pandas as pd # data processing, CSV file I/O (e.g. pd.read_csv)\n",
    "\n",
    "# Input data files are available in the read-only \"../input/\" directory\n",
    "# For example, running this (by clicking run or pressing Shift+Enter) will list all files under the input directory\n",
    "\n",
    "import os\n",
    "for dirname, _, filenames in os.walk('/kaggle/input'):\n",
    "    for filename in filenames:\n",
    "        print(os.path.join(dirname, filename))\n",
    "\n",
    "# You can write up to 20GB to the current directory (/kaggle/working/) that gets preserved as output when you create a version using \"Save & Run All\" \n",
    "# You can also write temporary files to /kaggle/temp/, but they won't be saved outside of the current session"
   ]
  },
  {
   "cell_type": "code",
   "execution_count": 2,
   "metadata": {
    "execution": {
     "iopub.execute_input": "2021-05-15T16:47:17.847644Z",
     "iopub.status.busy": "2021-05-15T16:47:17.846924Z",
     "iopub.status.idle": "2021-05-15T16:47:17.871889Z",
     "shell.execute_reply": "2021-05-15T16:47:17.870743Z"
    },
    "papermill": {
     "duration": 0.042213,
     "end_time": "2021-05-15T16:47:17.872067",
     "exception": false,
     "start_time": "2021-05-15T16:47:17.829854",
     "status": "completed"
    },
    "tags": []
   },
   "outputs": [
    {
     "ename": "FileNotFoundError",
     "evalue": "[Errno 2] No such file or directory: '/kaggle/input/fetal-health-classification/fetal_health.csv'",
     "output_type": "error",
     "traceback": [
      "\u001b[1;31m---------------------------------------------------------------------------\u001b[0m",
      "\u001b[1;31mFileNotFoundError\u001b[0m                         Traceback (most recent call last)",
      "\u001b[1;32m<ipython-input-2-959d326d915f>\u001b[0m in \u001b[0;36m<module>\u001b[1;34m\u001b[0m\n\u001b[0;32m      1\u001b[0m \u001b[1;32mimport\u001b[0m \u001b[0mpandas\u001b[0m \u001b[1;32mas\u001b[0m \u001b[0mpd\u001b[0m\u001b[1;33m\u001b[0m\u001b[1;33m\u001b[0m\u001b[0m\n\u001b[1;32m----> 2\u001b[1;33m \u001b[0mdf\u001b[0m\u001b[1;33m=\u001b[0m\u001b[0mpd\u001b[0m\u001b[1;33m.\u001b[0m\u001b[0mread_csv\u001b[0m\u001b[1;33m(\u001b[0m\u001b[1;34m'/kaggle/input/fetal-health-classification/fetal_health.csv'\u001b[0m\u001b[1;33m)\u001b[0m\u001b[1;33m\u001b[0m\u001b[1;33m\u001b[0m\u001b[0m\n\u001b[0m",
      "\u001b[1;32m~\\Anaconda3\\lib\\site-packages\\pandas\\io\\parsers.py\u001b[0m in \u001b[0;36mread_csv\u001b[1;34m(filepath_or_buffer, sep, delimiter, header, names, index_col, usecols, squeeze, prefix, mangle_dupe_cols, dtype, engine, converters, true_values, false_values, skipinitialspace, skiprows, skipfooter, nrows, na_values, keep_default_na, na_filter, verbose, skip_blank_lines, parse_dates, infer_datetime_format, keep_date_col, date_parser, dayfirst, cache_dates, iterator, chunksize, compression, thousands, decimal, lineterminator, quotechar, quoting, doublequote, escapechar, comment, encoding, dialect, error_bad_lines, warn_bad_lines, delim_whitespace, low_memory, memory_map, float_precision)\u001b[0m\n\u001b[0;32m    684\u001b[0m     )\n\u001b[0;32m    685\u001b[0m \u001b[1;33m\u001b[0m\u001b[0m\n\u001b[1;32m--> 686\u001b[1;33m     \u001b[1;32mreturn\u001b[0m \u001b[0m_read\u001b[0m\u001b[1;33m(\u001b[0m\u001b[0mfilepath_or_buffer\u001b[0m\u001b[1;33m,\u001b[0m \u001b[0mkwds\u001b[0m\u001b[1;33m)\u001b[0m\u001b[1;33m\u001b[0m\u001b[1;33m\u001b[0m\u001b[0m\n\u001b[0m\u001b[0;32m    687\u001b[0m \u001b[1;33m\u001b[0m\u001b[0m\n\u001b[0;32m    688\u001b[0m \u001b[1;33m\u001b[0m\u001b[0m\n",
      "\u001b[1;32m~\\Anaconda3\\lib\\site-packages\\pandas\\io\\parsers.py\u001b[0m in \u001b[0;36m_read\u001b[1;34m(filepath_or_buffer, kwds)\u001b[0m\n\u001b[0;32m    450\u001b[0m \u001b[1;33m\u001b[0m\u001b[0m\n\u001b[0;32m    451\u001b[0m     \u001b[1;31m# Create the parser.\u001b[0m\u001b[1;33m\u001b[0m\u001b[1;33m\u001b[0m\u001b[1;33m\u001b[0m\u001b[0m\n\u001b[1;32m--> 452\u001b[1;33m     \u001b[0mparser\u001b[0m \u001b[1;33m=\u001b[0m \u001b[0mTextFileReader\u001b[0m\u001b[1;33m(\u001b[0m\u001b[0mfp_or_buf\u001b[0m\u001b[1;33m,\u001b[0m \u001b[1;33m**\u001b[0m\u001b[0mkwds\u001b[0m\u001b[1;33m)\u001b[0m\u001b[1;33m\u001b[0m\u001b[1;33m\u001b[0m\u001b[0m\n\u001b[0m\u001b[0;32m    453\u001b[0m \u001b[1;33m\u001b[0m\u001b[0m\n\u001b[0;32m    454\u001b[0m     \u001b[1;32mif\u001b[0m \u001b[0mchunksize\u001b[0m \u001b[1;32mor\u001b[0m \u001b[0miterator\u001b[0m\u001b[1;33m:\u001b[0m\u001b[1;33m\u001b[0m\u001b[1;33m\u001b[0m\u001b[0m\n",
      "\u001b[1;32m~\\Anaconda3\\lib\\site-packages\\pandas\\io\\parsers.py\u001b[0m in \u001b[0;36m__init__\u001b[1;34m(self, f, engine, **kwds)\u001b[0m\n\u001b[0;32m    944\u001b[0m             \u001b[0mself\u001b[0m\u001b[1;33m.\u001b[0m\u001b[0moptions\u001b[0m\u001b[1;33m[\u001b[0m\u001b[1;34m\"has_index_names\"\u001b[0m\u001b[1;33m]\u001b[0m \u001b[1;33m=\u001b[0m \u001b[0mkwds\u001b[0m\u001b[1;33m[\u001b[0m\u001b[1;34m\"has_index_names\"\u001b[0m\u001b[1;33m]\u001b[0m\u001b[1;33m\u001b[0m\u001b[1;33m\u001b[0m\u001b[0m\n\u001b[0;32m    945\u001b[0m \u001b[1;33m\u001b[0m\u001b[0m\n\u001b[1;32m--> 946\u001b[1;33m         \u001b[0mself\u001b[0m\u001b[1;33m.\u001b[0m\u001b[0m_make_engine\u001b[0m\u001b[1;33m(\u001b[0m\u001b[0mself\u001b[0m\u001b[1;33m.\u001b[0m\u001b[0mengine\u001b[0m\u001b[1;33m)\u001b[0m\u001b[1;33m\u001b[0m\u001b[1;33m\u001b[0m\u001b[0m\n\u001b[0m\u001b[0;32m    947\u001b[0m \u001b[1;33m\u001b[0m\u001b[0m\n\u001b[0;32m    948\u001b[0m     \u001b[1;32mdef\u001b[0m \u001b[0mclose\u001b[0m\u001b[1;33m(\u001b[0m\u001b[0mself\u001b[0m\u001b[1;33m)\u001b[0m\u001b[1;33m:\u001b[0m\u001b[1;33m\u001b[0m\u001b[1;33m\u001b[0m\u001b[0m\n",
      "\u001b[1;32m~\\Anaconda3\\lib\\site-packages\\pandas\\io\\parsers.py\u001b[0m in \u001b[0;36m_make_engine\u001b[1;34m(self, engine)\u001b[0m\n\u001b[0;32m   1176\u001b[0m     \u001b[1;32mdef\u001b[0m \u001b[0m_make_engine\u001b[0m\u001b[1;33m(\u001b[0m\u001b[0mself\u001b[0m\u001b[1;33m,\u001b[0m \u001b[0mengine\u001b[0m\u001b[1;33m=\u001b[0m\u001b[1;34m\"c\"\u001b[0m\u001b[1;33m)\u001b[0m\u001b[1;33m:\u001b[0m\u001b[1;33m\u001b[0m\u001b[1;33m\u001b[0m\u001b[0m\n\u001b[0;32m   1177\u001b[0m         \u001b[1;32mif\u001b[0m \u001b[0mengine\u001b[0m \u001b[1;33m==\u001b[0m \u001b[1;34m\"c\"\u001b[0m\u001b[1;33m:\u001b[0m\u001b[1;33m\u001b[0m\u001b[1;33m\u001b[0m\u001b[0m\n\u001b[1;32m-> 1178\u001b[1;33m             \u001b[0mself\u001b[0m\u001b[1;33m.\u001b[0m\u001b[0m_engine\u001b[0m \u001b[1;33m=\u001b[0m \u001b[0mCParserWrapper\u001b[0m\u001b[1;33m(\u001b[0m\u001b[0mself\u001b[0m\u001b[1;33m.\u001b[0m\u001b[0mf\u001b[0m\u001b[1;33m,\u001b[0m \u001b[1;33m**\u001b[0m\u001b[0mself\u001b[0m\u001b[1;33m.\u001b[0m\u001b[0moptions\u001b[0m\u001b[1;33m)\u001b[0m\u001b[1;33m\u001b[0m\u001b[1;33m\u001b[0m\u001b[0m\n\u001b[0m\u001b[0;32m   1179\u001b[0m         \u001b[1;32melse\u001b[0m\u001b[1;33m:\u001b[0m\u001b[1;33m\u001b[0m\u001b[1;33m\u001b[0m\u001b[0m\n\u001b[0;32m   1180\u001b[0m             \u001b[1;32mif\u001b[0m \u001b[0mengine\u001b[0m \u001b[1;33m==\u001b[0m \u001b[1;34m\"python\"\u001b[0m\u001b[1;33m:\u001b[0m\u001b[1;33m\u001b[0m\u001b[1;33m\u001b[0m\u001b[0m\n",
      "\u001b[1;32m~\\Anaconda3\\lib\\site-packages\\pandas\\io\\parsers.py\u001b[0m in \u001b[0;36m__init__\u001b[1;34m(self, src, **kwds)\u001b[0m\n\u001b[0;32m   2006\u001b[0m         \u001b[0mkwds\u001b[0m\u001b[1;33m[\u001b[0m\u001b[1;34m\"usecols\"\u001b[0m\u001b[1;33m]\u001b[0m \u001b[1;33m=\u001b[0m \u001b[0mself\u001b[0m\u001b[1;33m.\u001b[0m\u001b[0musecols\u001b[0m\u001b[1;33m\u001b[0m\u001b[1;33m\u001b[0m\u001b[0m\n\u001b[0;32m   2007\u001b[0m \u001b[1;33m\u001b[0m\u001b[0m\n\u001b[1;32m-> 2008\u001b[1;33m         \u001b[0mself\u001b[0m\u001b[1;33m.\u001b[0m\u001b[0m_reader\u001b[0m \u001b[1;33m=\u001b[0m \u001b[0mparsers\u001b[0m\u001b[1;33m.\u001b[0m\u001b[0mTextReader\u001b[0m\u001b[1;33m(\u001b[0m\u001b[0msrc\u001b[0m\u001b[1;33m,\u001b[0m \u001b[1;33m**\u001b[0m\u001b[0mkwds\u001b[0m\u001b[1;33m)\u001b[0m\u001b[1;33m\u001b[0m\u001b[1;33m\u001b[0m\u001b[0m\n\u001b[0m\u001b[0;32m   2009\u001b[0m         \u001b[0mself\u001b[0m\u001b[1;33m.\u001b[0m\u001b[0munnamed_cols\u001b[0m \u001b[1;33m=\u001b[0m \u001b[0mself\u001b[0m\u001b[1;33m.\u001b[0m\u001b[0m_reader\u001b[0m\u001b[1;33m.\u001b[0m\u001b[0munnamed_cols\u001b[0m\u001b[1;33m\u001b[0m\u001b[1;33m\u001b[0m\u001b[0m\n\u001b[0;32m   2010\u001b[0m \u001b[1;33m\u001b[0m\u001b[0m\n",
      "\u001b[1;32mpandas\\_libs\\parsers.pyx\u001b[0m in \u001b[0;36mpandas._libs.parsers.TextReader.__cinit__\u001b[1;34m()\u001b[0m\n",
      "\u001b[1;32mpandas\\_libs\\parsers.pyx\u001b[0m in \u001b[0;36mpandas._libs.parsers.TextReader._setup_parser_source\u001b[1;34m()\u001b[0m\n",
      "\u001b[1;31mFileNotFoundError\u001b[0m: [Errno 2] No such file or directory: '/kaggle/input/fetal-health-classification/fetal_health.csv'"
     ]
    }
   ],
   "source": [
    "import pandas as pd\n",
    "df=pd.read_csv('/kaggle/input/fetal-health-classification/fetal_health.csv')"
   ]
  },
  {
   "cell_type": "code",
   "execution_count": null,
   "metadata": {
    "execution": {
     "iopub.execute_input": "2021-05-15T16:47:17.911307Z",
     "iopub.status.busy": "2021-05-15T16:47:17.910306Z",
     "iopub.status.idle": "2021-05-15T16:47:17.951082Z",
     "shell.execute_reply": "2021-05-15T16:47:17.951632Z"
    },
    "papermill": {
     "duration": 0.066509,
     "end_time": "2021-05-15T16:47:17.951799",
     "exception": false,
     "start_time": "2021-05-15T16:47:17.885290",
     "status": "completed"
    },
    "tags": []
   },
   "outputs": [],
   "source": [
    "df.head(5) # Pega os 5 primeiros registro do DF"
   ]
  },
  {
   "cell_type": "code",
   "execution_count": null,
   "metadata": {
    "execution": {
     "iopub.execute_input": "2021-05-15T16:47:17.982356Z",
     "iopub.status.busy": "2021-05-15T16:47:17.981360Z",
     "iopub.status.idle": "2021-05-15T16:47:17.990313Z",
     "shell.execute_reply": "2021-05-15T16:47:17.989686Z"
    },
    "papermill": {
     "duration": 0.02533,
     "end_time": "2021-05-15T16:47:17.990455",
     "exception": false,
     "start_time": "2021-05-15T16:47:17.965125",
     "status": "completed"
    },
    "tags": []
   },
   "outputs": [],
   "source": [
    "np.unique(df.fetal_health) # Retorna os valores únicos de df.fetal_health"
   ]
  },
  {
   "cell_type": "code",
   "execution_count": null,
   "metadata": {
    "execution": {
     "iopub.execute_input": "2021-05-15T16:47:18.026330Z",
     "iopub.status.busy": "2021-05-15T16:47:18.025623Z",
     "iopub.status.idle": "2021-05-15T16:47:18.030304Z",
     "shell.execute_reply": "2021-05-15T16:47:18.031091Z"
    },
    "papermill": {
     "duration": 0.026124,
     "end_time": "2021-05-15T16:47:18.031274",
     "exception": false,
     "start_time": "2021-05-15T16:47:18.005150",
     "status": "completed"
    },
    "tags": []
   },
   "outputs": [],
   "source": [
    "X=df.drop(['fetal_health'],axis=1) # O X será todo o DF, menos a coluna 'fetal_health'\n"
   ]
  },
  {
   "cell_type": "code",
   "execution_count": null,
   "metadata": {
    "execution": {
     "iopub.execute_input": "2021-05-15T16:47:18.069276Z",
     "iopub.status.busy": "2021-05-15T16:47:18.068139Z",
     "iopub.status.idle": "2021-05-15T16:47:18.072466Z",
     "shell.execute_reply": "2021-05-15T16:47:18.073222Z"
    },
    "papermill": {
     "duration": 0.024568,
     "end_time": "2021-05-15T16:47:18.073476",
     "exception": false,
     "start_time": "2021-05-15T16:47:18.048908",
     "status": "completed"
    },
    "tags": []
   },
   "outputs": [],
   "source": [
    "y=df.fetal_health # O y será a coluna 'fetal_health'"
   ]
  },
  {
   "cell_type": "code",
   "execution_count": null,
   "metadata": {
    "execution": {
     "iopub.execute_input": "2021-05-15T16:47:18.118308Z",
     "iopub.status.busy": "2021-05-15T16:47:18.117598Z",
     "iopub.status.idle": "2021-05-15T16:47:19.145025Z",
     "shell.execute_reply": "2021-05-15T16:47:19.145511Z"
    },
    "papermill": {
     "duration": 1.048178,
     "end_time": "2021-05-15T16:47:19.145687",
     "exception": false,
     "start_time": "2021-05-15T16:47:18.097509",
     "status": "completed"
    },
    "tags": []
   },
   "outputs": [],
   "source": [
    "# Normalizando o DF\n",
    "from sklearn.preprocessing import MinMaxScaler\n",
    "X_scaler=MinMaxScaler().fit_transform(X)\n",
    "df_scaler=pd.DataFrame(X_scaler,columns=X.columns)\n",
    "df_scaler"
   ]
  },
  {
   "cell_type": "code",
   "execution_count": null,
   "metadata": {
    "execution": {
     "iopub.execute_input": "2021-05-15T16:47:19.181467Z",
     "iopub.status.busy": "2021-05-15T16:47:19.180725Z",
     "iopub.status.idle": "2021-05-15T16:47:19.251057Z",
     "shell.execute_reply": "2021-05-15T16:47:19.250447Z"
    },
    "papermill": {
     "duration": 0.090406,
     "end_time": "2021-05-15T16:47:19.251205",
     "exception": false,
     "start_time": "2021-05-15T16:47:19.160799",
     "status": "completed"
    },
    "tags": []
   },
   "outputs": [],
   "source": [
    "# Outra estratégia para separar em treino e teste [KFold]\n",
    "# Basicamente treina com todos os dados e testa com todos os dados. \n",
    "# Em cada interação, pega um conjunto diferente de dados\n",
    "from sklearn.model_selection import KFold\n",
    "\n",
    "# Separa em 4 partes\n",
    "kf = KFold(n_splits=4)\n",
    "kf.get_n_splits(df_scaler)"
   ]
  },
  {
   "cell_type": "code",
   "execution_count": null,
   "metadata": {
    "execution": {
     "iopub.execute_input": "2021-05-15T16:47:19.287133Z",
     "iopub.status.busy": "2021-05-15T16:47:19.286469Z",
     "iopub.status.idle": "2021-05-15T16:47:19.518177Z",
     "shell.execute_reply": "2021-05-15T16:47:19.517512Z"
    },
    "papermill": {
     "duration": 0.251301,
     "end_time": "2021-05-15T16:47:19.518330",
     "exception": false,
     "start_time": "2021-05-15T16:47:19.267029",
     "status": "completed"
    },
    "tags": []
   },
   "outputs": [],
   "source": [
    "from sklearn.tree import DecisionTreeClassifier\n",
    "clf=DecisionTreeClassifier()"
   ]
  },
  {
   "cell_type": "markdown",
   "metadata": {
    "papermill": {
     "duration": 0.015526,
     "end_time": "2021-05-15T16:47:19.549804",
     "exception": false,
     "start_time": "2021-05-15T16:47:19.534278",
     "status": "completed"
    },
    "tags": []
   },
   "source": [
    "#Iloc seleciona linhas e colunas"
   ]
  },
  {
   "cell_type": "code",
   "execution_count": null,
   "metadata": {
    "execution": {
     "iopub.execute_input": "2021-05-15T16:47:19.593950Z",
     "iopub.status.busy": "2021-05-15T16:47:19.593304Z",
     "iopub.status.idle": "2021-05-15T16:47:19.620642Z",
     "shell.execute_reply": "2021-05-15T16:47:19.621199Z"
    },
    "papermill": {
     "duration": 0.055831,
     "end_time": "2021-05-15T16:47:19.621396",
     "exception": false,
     "start_time": "2021-05-15T16:47:19.565565",
     "status": "completed"
    },
    "tags": []
   },
   "outputs": [],
   "source": [
    "df_scaler.iloc[0:10,:]"
   ]
  },
  {
   "cell_type": "code",
   "execution_count": null,
   "metadata": {
    "execution": {
     "iopub.execute_input": "2021-05-15T16:47:19.661396Z",
     "iopub.status.busy": "2021-05-15T16:47:19.660676Z",
     "iopub.status.idle": "2021-05-15T16:47:20.103702Z",
     "shell.execute_reply": "2021-05-15T16:47:20.103148Z"
    },
    "papermill": {
     "duration": 0.465262,
     "end_time": "2021-05-15T16:47:20.103839",
     "exception": false,
     "start_time": "2021-05-15T16:47:19.638577",
     "status": "completed"
    },
    "tags": []
   },
   "outputs": [],
   "source": [
    "from sklearn.linear_model import LogisticRegression\n",
    "from sklearn.model_selection import cross_val_score\n",
    "logit=LogisticRegression()\n",
    "cross_val_score(logit, df_scaler, y, scoring=\"accuracy\")"
   ]
  },
  {
   "cell_type": "code",
   "execution_count": null,
   "metadata": {
    "execution": {
     "iopub.execute_input": "2021-05-15T16:47:20.148086Z",
     "iopub.status.busy": "2021-05-15T16:47:20.147365Z",
     "iopub.status.idle": "2021-05-15T16:47:20.230902Z",
     "shell.execute_reply": "2021-05-15T16:47:20.229574Z"
    },
    "papermill": {
     "duration": 0.110339,
     "end_time": "2021-05-15T16:47:20.231219",
     "exception": false,
     "start_time": "2021-05-15T16:47:20.120880",
     "status": "completed"
    },
    "tags": []
   },
   "outputs": [],
   "source": [
    "sum_accuracy_score=0\n",
    "\n",
    "# iloc é acesso à dados\n",
    "# df_scaler.iloc[train_index,:] .:. Pegar a linha train_index e todas as colunas\n",
    "from sklearn.metrics import accuracy_score\n",
    "for train_index, test_index in kf.split(X):\n",
    "    X_train=df_scaler.iloc[train_index,:]\n",
    "    y_train=y[train_index]\n",
    "    X_test=df_scaler.iloc[test_index,:]\n",
    "    y_test=y[test_index]\n",
    "    \n",
    "    clf.fit(X_train,y_train)\n",
    "    y_pred=clf.predict(X_test)\n",
    "    \n",
    "    print(accuracy_score(y_test,y_pred))\n",
    "    \n",
    "    sum_accuracy_score+=accuracy_score(y_test,y_pred)\n",
    "    \n",
    "    \n",
    "    \n",
    "    \n",
    "    \n",
    "    "
   ]
  },
  {
   "cell_type": "code",
   "execution_count": null,
   "metadata": {
    "execution": {
     "iopub.execute_input": "2021-05-15T16:47:20.274082Z",
     "iopub.status.busy": "2021-05-15T16:47:20.273205Z",
     "iopub.status.idle": "2021-05-15T16:47:20.278839Z",
     "shell.execute_reply": "2021-05-15T16:47:20.277907Z"
    },
    "papermill": {
     "duration": 0.029048,
     "end_time": "2021-05-15T16:47:20.279064",
     "exception": false,
     "start_time": "2021-05-15T16:47:20.250016",
     "status": "completed"
    },
    "tags": []
   },
   "outputs": [],
   "source": [
    "print('accuracy_score',sum_accuracy_score/4)"
   ]
  },
  {
   "cell_type": "code",
   "execution_count": null,
   "metadata": {
    "execution": {
     "iopub.execute_input": "2021-05-15T16:47:20.327624Z",
     "iopub.status.busy": "2021-05-15T16:47:20.326667Z",
     "iopub.status.idle": "2021-05-15T16:47:20.332867Z",
     "shell.execute_reply": "2021-05-15T16:47:20.332014Z"
    },
    "papermill": {
     "duration": 0.034461,
     "end_time": "2021-05-15T16:47:20.333131",
     "exception": false,
     "start_time": "2021-05-15T16:47:20.298670",
     "status": "completed"
    },
    "tags": []
   },
   "outputs": [],
   "source": [
    "from sklearn import tree\n",
    "text_representation = tree.export_text(clf)\n",
    "print(text_representation)"
   ]
  },
  {
   "cell_type": "code",
   "execution_count": null,
   "metadata": {
    "execution": {
     "iopub.execute_input": "2021-05-15T16:47:20.404217Z",
     "iopub.status.busy": "2021-05-15T16:47:20.379646Z",
     "iopub.status.idle": "2021-05-15T16:47:31.696191Z",
     "shell.execute_reply": "2021-05-15T16:47:31.696704Z"
    },
    "papermill": {
     "duration": 11.343072,
     "end_time": "2021-05-15T16:47:31.696896",
     "exception": false,
     "start_time": "2021-05-15T16:47:20.353824",
     "status": "completed"
    },
    "tags": []
   },
   "outputs": [],
   "source": [
    "import matplotlib.pyplot as plt\n",
    "fig = plt.figure(figsize=(25,20))\n",
    "_ = tree.plot_tree(clf, \n",
    "                   feature_names=df_scaler.columns,  \n",
    "                   filled=True)"
   ]
  },
  {
   "cell_type": "code",
   "execution_count": null,
   "metadata": {
    "papermill": {
     "duration": 0.022894,
     "end_time": "2021-05-15T16:47:31.743674",
     "exception": false,
     "start_time": "2021-05-15T16:47:31.720780",
     "status": "completed"
    },
    "tags": []
   },
   "outputs": [],
   "source": []
  }
 ],
 "metadata": {
  "kernelspec": {
   "display_name": "Python 3",
   "language": "python",
   "name": "python3"
  },
  "language_info": {
   "codemirror_mode": {
    "name": "ipython",
    "version": 3
   },
   "file_extension": ".py",
   "mimetype": "text/x-python",
   "name": "python",
   "nbconvert_exporter": "python",
   "pygments_lexer": "ipython3",
   "version": "3.8.5"
  },
  "papermill": {
   "default_parameters": {},
   "duration": 23.943856,
   "end_time": "2021-05-15T16:47:33.343494",
   "environment_variables": {},
   "exception": null,
   "input_path": "__notebook__.ipynb",
   "output_path": "__notebook__.ipynb",
   "parameters": {},
   "start_time": "2021-05-15T16:47:09.399638",
   "version": "2.3.3"
  }
 },
 "nbformat": 4,
 "nbformat_minor": 5
}
