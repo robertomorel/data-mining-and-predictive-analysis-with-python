{
 "cells": [
  {
   "cell_type": "code",
   "execution_count": 1,
   "metadata": {
    "id": "8zAYa_4Ah_yg"
   },
   "outputs": [],
   "source": [
    "from sklearn.datasets import load_boston # Dataset de preço de imoveis\n",
    "from sklearn.feature_selection import RFECV # Selecionar s features\n",
    "from sklearn import datasets, linear_model # Modelo linear\n",
    "import warnings # Esconder avisos\n"
   ]
  },
  {
   "cell_type": "code",
   "execution_count": 2,
   "metadata": {
    "id": "HXZ3TVcniPNH"
   },
   "outputs": [],
   "source": [
    "boston=load_boston()\n",
    "X=boston.data\n",
    "y=boston.target"
   ]
  },
  {
   "cell_type": "code",
   "execution_count": 3,
   "metadata": {
    "id": "HRk4PvxUiXqx"
   },
   "outputs": [],
   "source": [
    "ols = linear_model.LinearRegression()"
   ]
  },
  {
   "cell_type": "code",
   "execution_count": 4,
   "metadata": {
    "colab": {
     "base_uri": "https://localhost:8080/"
    },
    "id": "vjfcR5IAiamQ",
    "outputId": "f2b8af7b-591a-4c4d-bfb8-98c98f39e7f8"
   },
   "outputs": [
    {
     "data": {
      "text/plain": [
       "array([[ 0.    ,  0.538 ,  6.575 ,  4.09  , 15.3   ,  4.98  ],\n",
       "       [ 0.    ,  0.469 ,  6.421 ,  4.9671, 17.8   ,  9.14  ],\n",
       "       [ 0.    ,  0.469 ,  7.185 ,  4.9671, 17.8   ,  4.03  ],\n",
       "       ...,\n",
       "       [ 0.    ,  0.573 ,  6.976 ,  2.1675, 21.    ,  5.64  ],\n",
       "       [ 0.    ,  0.573 ,  6.794 ,  2.3889, 21.    ,  6.48  ],\n",
       "       [ 0.    ,  0.573 ,  6.03  ,  2.505 , 21.    ,  7.88  ]])"
      ]
     },
     "execution_count": 4,
     "metadata": {},
     "output_type": "execute_result"
    }
   ],
   "source": [
    "# Create recursive feature eliminator that scores features by mean squared errors\n",
    "rfecv = RFECV(estimator=ols, step=1, scoring='neg_mean_squared_error')\n",
    "\n",
    "# Fit recursive feature eliminator \n",
    "rfecv.fit(X, y)\n",
    "\n",
    "# Recursive feature elimination\n",
    "rfecv.transform(X)"
   ]
  },
  {
   "cell_type": "code",
   "execution_count": 5,
   "metadata": {
    "colab": {
     "base_uri": "https://localhost:8080/"
    },
    "id": "tyqtoa-Hihmj",
    "outputId": "19405e5f-fe84-4aad-e7d2-5d47dcdab927"
   },
   "outputs": [
    {
     "data": {
      "text/plain": [
       "6"
      ]
     },
     "execution_count": 5,
     "metadata": {},
     "output_type": "execute_result"
    }
   ],
   "source": [
    "rfecv.n_features_"
   ]
  },
  {
   "cell_type": "code",
   "execution_count": 6,
   "metadata": {
    "colab": {
     "base_uri": "https://localhost:8080/"
    },
    "id": "4Ccf4x5iiliu",
    "outputId": "4888d3a5-2fbe-4cfd-9a05-19c5f8e86f40"
   },
   "outputs": [
    {
     "data": {
      "text/plain": [
       "(506, 13)"
      ]
     },
     "execution_count": 6,
     "metadata": {},
     "output_type": "execute_result"
    }
   ],
   "source": [
    "X.shape"
   ]
  },
  {
   "cell_type": "code",
   "execution_count": null,
   "metadata": {
    "id": "2P_GJVZminKz"
   },
   "outputs": [],
   "source": []
  }
 ],
 "metadata": {
  "colab": {
   "name": "RecursiveFeatureEliminator.ipynb",
   "provenance": []
  },
  "kernelspec": {
   "display_name": "Python 3",
   "language": "python",
   "name": "python3"
  },
  "language_info": {
   "codemirror_mode": {
    "name": "ipython",
    "version": 3
   },
   "file_extension": ".py",
   "mimetype": "text/x-python",
   "name": "python",
   "nbconvert_exporter": "python",
   "pygments_lexer": "ipython3",
   "version": "3.8.5"
  }
 },
 "nbformat": 4,
 "nbformat_minor": 1
}
