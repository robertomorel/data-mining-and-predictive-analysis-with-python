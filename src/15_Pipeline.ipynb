{
 "cells": [
  {
   "cell_type": "code",
   "execution_count": 1,
   "metadata": {
    "id": "1Cy9gOoELMBf"
   },
   "outputs": [],
   "source": [
    "from sklearn import datasets\n",
    "import numpy as np # Para trabalhar com vetor\n",
    "from sklearn.model_selection import train_test_split # Para desestruturar em treino e teste\n",
    "from sklearn.preprocessing import StandardScaler # Para normalizar"
   ]
  },
  {
   "cell_type": "code",
   "execution_count": 2,
   "metadata": {
    "id": "sEEY8x1YLTjJ"
   },
   "outputs": [],
   "source": [
    "# Load the iris data\n",
    "iris = datasets.load_iris()\n",
    "\n",
    "# Create a variable for the feature data\n",
    "X = iris.data\n",
    "\n",
    "# Create a variable for the target data\n",
    "y = iris.target"
   ]
  },
  {
   "cell_type": "code",
   "execution_count": 3,
   "metadata": {
    "id": "IgVLxARQLZ9l"
   },
   "outputs": [],
   "source": [
    "# Separando em treino e teste (30%)\n",
    "X_train, X_test, y_train, y_test = train_test_split(X, y, test_size=0.3, random_state=13)"
   ]
  },
  {
   "cell_type": "code",
   "execution_count": 4,
   "metadata": {
    "id": "MiibEeTwLdiq"
   },
   "outputs": [],
   "source": [
    "# Load the standard scaler\n",
    "sc = StandardScaler()\n",
    "\n",
    "# Compute the mean and standard deviation based on the training data\n",
    "sc.fit(X_train)\n",
    "\n",
    "# Scale the training data to be of mean 0 and of unit variance\n",
    "X_train_std = sc.transform(X_train)\n",
    "\n",
    "# Scale the test data to be of mean 0 and of unit variance\n",
    "X_test_std = sc.transform(X_test)"
   ]
  },
  {
   "cell_type": "code",
   "execution_count": 5,
   "metadata": {
    "id": "T482nE-GLhjR"
   },
   "outputs": [],
   "source": [
    "from sklearn.ensemble import RandomForestClassifier"
   ]
  },
  {
   "cell_type": "code",
   "execution_count": 6,
   "metadata": {
    "colab": {
     "base_uri": "https://localhost:8080/"
    },
    "id": "wqBTTb1ALpp4",
    "outputId": "8eddf0ad-6198-43a5-88ba-4f4687c81510"
   },
   "outputs": [
    {
     "data": {
      "text/plain": [
       "RandomForestClassifier()"
      ]
     },
     "execution_count": 6,
     "metadata": {},
     "output_type": "execute_result"
    }
   ],
   "source": [
    "clf=RandomForestClassifier()\n",
    "clf.fit(X_train_std,y_train) # Treinar com o modelo normalizado"
   ]
  },
  {
   "cell_type": "code",
   "execution_count": 14,
   "metadata": {
    "id": "VLGfqfG_LubZ"
   },
   "outputs": [],
   "source": [
    "# Testar o modelo treinado\n",
    "y_pred=clf.predict(X_test_std)"
   ]
  },
  {
   "cell_type": "code",
   "execution_count": 15,
   "metadata": {
    "colab": {
     "base_uri": "https://localhost:8080/"
    },
    "id": "_WD6UWfELzvO",
    "outputId": "9a16f29a-9598-431c-a959-abff7bf38402"
   },
   "outputs": [
    {
     "name": "stdout",
     "output_type": "stream",
     "text": [
      "              precision    recall  f1-score   support\n",
      "\n",
      "           0       1.00      1.00      1.00        14\n",
      "           1       0.85      0.92      0.88        12\n",
      "           2       0.94      0.89      0.92        19\n",
      "\n",
      "    accuracy                           0.93        45\n",
      "   macro avg       0.93      0.94      0.93        45\n",
      "weighted avg       0.94      0.93      0.93        45\n",
      "\n"
     ]
    }
   ],
   "source": [
    "# Dá outras métricas, melhor que acurácia\n",
    "from sklearn.metrics import classification_report\n",
    "\n",
    "# Métrica Precision\n",
    "#    - Diz respeito à métrica positiva\n",
    "#    - Se tem um exame com alta precisão, se deu positivo, é pq é positivo\n",
    "# Métrica Recall\n",
    "#    - Diz respeito à métrica negativa\n",
    "#    - Se tem um exame com alto recall, se deu negativo, é pq é negativo\n",
    "# Métrica F1-Score\n",
    "#    - Alta precision e alto recall\n",
    "\n",
    "print(classification_report(y_test,y_pred))"
   ]
  },
  {
   "cell_type": "markdown",
   "metadata": {},
   "source": [
    "### Matriz de Confusão\n",
    "- \n",
    "- Tudo o que tiver na diagonal, tá certo, o que não tiver, tá errado"
   ]
  },
  {
   "cell_type": "code",
   "execution_count": 9,
   "metadata": {
    "id": "4CqX3oBOL7Ea"
   },
   "outputs": [],
   "source": [
    "from sklearn.metrics import confusion_matrix"
   ]
  },
  {
   "cell_type": "code",
   "execution_count": 10,
   "metadata": {
    "colab": {
     "base_uri": "https://localhost:8080/"
    },
    "id": "cBPjes-uMof_",
    "outputId": "3a34d0c3-76ec-4b3d-a422-99d2bd496512"
   },
   "outputs": [
    {
     "data": {
      "text/plain": [
       "array([[14,  0,  0],\n",
       "       [ 0, 12,  0],\n",
       "       [ 0,  1, 18]], dtype=int64)"
      ]
     },
     "execution_count": 10,
     "metadata": {},
     "output_type": "execute_result"
    }
   ],
   "source": [
    "confusion_matrix(y_test,y_pred)"
   ]
  },
  {
   "cell_type": "code",
   "execution_count": 11,
   "metadata": {
    "colab": {
     "base_uri": "https://localhost:8080/"
    },
    "id": "8zBfO9sJMrR5",
    "outputId": "12bc8fc8-fc61-419c-a437-7a2337160147"
   },
   "outputs": [
    {
     "data": {
      "text/plain": [
       "DecisionTreeClassifier()"
      ]
     },
     "execution_count": 11,
     "metadata": {},
     "output_type": "execute_result"
    }
   ],
   "source": [
    "from sklearn.tree import DecisionTreeClassifier\n",
    "clf=DecisionTreeClassifier()\n",
    "clf.fit(X_train_std,y_train)"
   ]
  },
  {
   "cell_type": "code",
   "execution_count": 12,
   "metadata": {
    "id": "zx4Z2PjkM3UU"
   },
   "outputs": [],
   "source": [
    "y_pred=clf.predict(X_test_std)"
   ]
  },
  {
   "cell_type": "code",
   "execution_count": 13,
   "metadata": {
    "colab": {
     "base_uri": "https://localhost:8080/"
    },
    "id": "iklNzb0lM5-x",
    "outputId": "c1eaba1a-04ed-41dc-f46a-1807474481a4"
   },
   "outputs": [
    {
     "data": {
      "text/plain": [
       "array([[14,  0,  0],\n",
       "       [ 0, 11,  1],\n",
       "       [ 0,  2, 17]], dtype=int64)"
      ]
     },
     "execution_count": 13,
     "metadata": {},
     "output_type": "execute_result"
    }
   ],
   "source": [
    "confusion_matrix(y_test,y_pred)"
   ]
  },
  {
   "cell_type": "code",
   "execution_count": null,
   "metadata": {
    "id": "u9KybHEwM7tI"
   },
   "outputs": [],
   "source": []
  }
 ],
 "metadata": {
  "colab": {
   "name": "Pipeline.ipynb",
   "provenance": []
  },
  "kernelspec": {
   "display_name": "Python 3",
   "language": "python",
   "name": "python3"
  },
  "language_info": {
   "codemirror_mode": {
    "name": "ipython",
    "version": 3
   },
   "file_extension": ".py",
   "mimetype": "text/x-python",
   "name": "python",
   "nbconvert_exporter": "python",
   "pygments_lexer": "ipython3",
   "version": "3.8.5"
  }
 },
 "nbformat": 4,
 "nbformat_minor": 1
}
