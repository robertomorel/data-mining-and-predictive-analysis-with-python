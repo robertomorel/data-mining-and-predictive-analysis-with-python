{
 "cells": [
  {
   "cell_type": "code",
   "execution_count": null,
   "metadata": {
    "id": "G8sG8qbmLMZD"
   },
   "outputs": [],
   "source": [
    "from sklearn.datasets import load_iris #banco de iris \n",
    "from sklearn.pipeline import make_pipeline #criar pipeline\n",
    "from sklearn import preprocessing #data preprocessing\n",
    "from sklearn.model_selection import cross_val_score\n",
    "from sklearn import svm #importa modelo"
   ]
  },
  {
   "cell_type": "code",
   "execution_count": null,
   "metadata": {
    "id": "dfzfcWzYLW_2"
   },
   "outputs": [],
   "source": [
    "iris = load_iris()"
   ]
  },
  {
   "cell_type": "code",
   "execution_count": null,
   "metadata": {
    "id": "92q_e3rnLnKl"
   },
   "outputs": [],
   "source": [
    "X=iris.data\n",
    "y=iris.target"
   ]
  },
  {
   "cell_type": "code",
   "execution_count": null,
   "metadata": {
    "id": "rHxDLhUnMfFo"
   },
   "outputs": [],
   "source": [
    "# Sem o pipeline\n",
    "#X_std=preprocessing.StandardScaler().fit_transform(X)\n",
    "#clf=svm.SVC()\n",
    "#from sklearn.model_selection import train_test_split\n",
    "#X_train,X_test,y_train,y_test=train_test_split(X_std,y)\n",
    "#clf.fit(X_train,y_train)\n",
    "#y_pred=clf.predict(X_test)\n",
    "#print(clf.score(y_test,y_pred))"
   ]
  },
  {
   "cell_type": "code",
   "execution_count": null,
   "metadata": {
    "id": "0mnG3ZJELp_X"
   },
   "outputs": [],
   "source": [
    "classifier_pipeline = make_pipeline(preprocessing.StandardScaler(), svm.SVC(C=1))"
   ]
  },
  {
   "cell_type": "code",
   "execution_count": null,
   "metadata": {
    "id": "Wsh0Ed0lLu_Z"
   },
   "outputs": [],
   "source": [
    "scores = cross_val_score(classifier_pipeline, X, y, cv=3)"
   ]
  },
  {
   "cell_type": "code",
   "execution_count": null,
   "metadata": {
    "colab": {
     "base_uri": "https://localhost:8080/"
    },
    "id": "Qjf5_cDVL2Ui",
    "outputId": "e2662ee1-79a1-415d-fccc-7a074bd7e0ed"
   },
   "outputs": [
    {
     "name": "stdout",
     "output_type": "stream",
     "text": [
      "[0.98 0.96 0.96]\n"
     ]
    }
   ],
   "source": [
    "print(scores)"
   ]
  },
  {
   "cell_type": "code",
   "execution_count": null,
   "metadata": {
    "id": "sT_SYF8KL7Ld"
   },
   "outputs": [],
   "source": []
  }
 ],
 "metadata": {
  "colab": {
   "collapsed_sections": [],
   "name": "CriandoPipeline.ipynb",
   "provenance": []
  },
  "kernelspec": {
   "display_name": "Python 3",
   "language": "python",
   "name": "python3"
  },
  "language_info": {
   "codemirror_mode": {
    "name": "ipython",
    "version": 3
   },
   "file_extension": ".py",
   "mimetype": "text/x-python",
   "name": "python",
   "nbconvert_exporter": "python",
   "pygments_lexer": "ipython3",
   "version": "3.8.5"
  }
 },
 "nbformat": 4,
 "nbformat_minor": 1
}
