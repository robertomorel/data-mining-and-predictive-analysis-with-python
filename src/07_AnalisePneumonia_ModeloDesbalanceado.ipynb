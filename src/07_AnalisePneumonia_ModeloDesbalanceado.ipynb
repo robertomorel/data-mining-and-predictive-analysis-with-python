{
 "cells": [
  {
   "cell_type": "markdown",
   "metadata": {},
   "source": [
    "# PNEUMONIA\n"
   ]
  },
  {
   "cell_type": "markdown",
   "metadata": {},
   "source": [
    "# DATASET\n",
    "\n",
    "#### Structure\n",
    "O dataset tem duas classes **NORMAL** e **PNEUMONIA**.\n",
    "#### Source\n",
    "Imagens de Raio X.\n",
    "\n",
    "#### Link for the dataset - [Kaggle - Chest X-ray Images](https://www.kaggle.com/paultimothymooney/chest-xray-pneumonia)"
   ]
  },
  {
   "cell_type": "code",
   "execution_count": 1,
   "metadata": {},
   "outputs": [],
   "source": [
    "import numpy as np #Trabalhar com vetores\n",
    "import pandas \n",
    "import seaborn #Trabalhar com graficos\n",
    "import matplotlib.pyplot as plt #Trabalhar com graficos"
   ]
  },
  {
   "cell_type": "code",
   "execution_count": 4,
   "metadata": {},
   "outputs": [],
   "source": [
    "#!pip install tensorflow\n",
    "from tensorflow import keras"
   ]
  },
  {
   "cell_type": "code",
   "execution_count": null,
   "metadata": {},
   "outputs": [],
   "source": [
    "from sklearn.metrics import accuracy_score, classification_report"
   ]
  },
  {
   "cell_type": "code",
   "execution_count": null,
   "metadata": {},
   "outputs": [],
   "source": [
    "X = [] #Lista vazia\n",
    "image = keras.preprocessing.image.load_img('../input/chest-xray-pneumonia/chest_xray/train/NORMAL/IM-0129-0001.jpeg',\n",
    "                                           color_mode = 'grayscale', target_size = (128,128))\n",
    "X.append(keras.preprocessing.image.img_to_array(image)) # Adicionando primeira imagem\n",
    "\n",
    "image = keras.preprocessing.image.load_img('../input/chest-xray-pneumonia/chest_xray/train/NORMAL/IM-0178-0001.jpeg',\n",
    "                                           color_mode = 'grayscale', target_size = (128,128))\n",
    "X.append(keras.preprocessing.image.img_to_array(image))# Adicionando segunda imagem"
   ]
  },
  {
   "cell_type": "code",
   "execution_count": null,
   "metadata": {},
   "outputs": [],
   "source": [
    "image = keras.preprocessing.image.load_img('../input/chest-xray-pneumonia/chest_xray/train/PNEUMONIA/person1005_virus_1688.jpeg',\n",
    "                                           color_mode = 'grayscale', target_size = (128,128))\n",
    "X.append(keras.preprocessing.image.img_to_array(image)) # Adicionando terceira imagem\n",
    "\n",
    "image = keras.preprocessing.image.load_img('../input/chest-xray-pneumonia/chest_xray/train/PNEUMONIA/person1018_virus_1706.jpeg',\n",
    "                                           color_mode = 'grayscale', target_size = (128,128))\n",
    "X.append(keras.preprocessing.image.img_to_array(image)) # Adicionando quarta imagem"
   ]
  },
  {
   "cell_type": "code",
   "execution_count": null,
   "metadata": {},
   "outputs": [],
   "source": [
    "len(X)"
   ]
  },
  {
   "cell_type": "code",
   "execution_count": null,
   "metadata": {},
   "outputs": [],
   "source": [
    "fig = plt.figure(figsize = (10,10)) #Criando figura de 10 por 10\n",
    "\n",
    "# Mostrando as imagens na lista e settando os títulos\n",
    "for i in range (4) :\n",
    "    plt.subplot(220+i+1)\n",
    "    plt.imshow (X[i])\n",
    "    if i < 2 :\n",
    "        plt.title('Normal')\n",
    "    else :\n",
    "        plt.title('Pneumonia')"
   ]
  },
  {
   "cell_type": "code",
   "execution_count": null,
   "metadata": {},
   "outputs": [],
   "source": [
    "#Vai ser visto nas proximas aulas\n",
    "def  modelo() :\n",
    "    \n",
    "    # create the cnn  model\n",
    "    model = keras.models.Sequential()\n",
    "    model.add(keras.Input(shape = (128, 128, 1, )))\n",
    "    \n",
    "    # 1st convolution layer\n",
    "    model.add(keras.layers.Conv2D(32, (3,3), padding = 'valid', kernel_regularizer = 'l2'))\n",
    "    model.add(keras.layers.BatchNormalization())\n",
    "    model.add(keras.layers.Activation('relu'))\n",
    "    model.add(keras.layers.Dropout(0.2))\n",
    "    model.add(keras.layers.MaxPooling2D((2,2), padding = 'valid'))\n",
    "    \n",
    "    # 2nd convolution layer\n",
    "    model.add(keras.layers.Conv2D(32, (3,3), padding = 'valid', kernel_regularizer = 'l2'))\n",
    "    model.add(keras.layers.BatchNormalization())\n",
    "    model.add(keras.layers.Activation('relu'))\n",
    "    model.add(keras.layers.Dropout(0.2))\n",
    "    model.add(keras.layers.MaxPooling2D((2,2), padding = 'valid'))\n",
    "    \n",
    "    # 3rd convolution layer\n",
    "    model.add(keras.layers.Conv2D(16, (3,3), padding = 'valid', kernel_regularizer = 'l2'))\n",
    "    model.add(keras.layers.BatchNormalization())\n",
    "    model.add(keras.layers.Activation('relu'))\n",
    "    model.add(keras.layers.Dropout(0.2))\n",
    "    model.add(keras.layers.MaxPooling2D((2,2), padding = 'valid'))\n",
    "    \n",
    "    # flatten and hidden layer\n",
    "    model.add(keras.layers.Flatten())\n",
    "    model.add(keras.layers.Dense(200, kernel_regularizer =  'l2'))\n",
    "    model.add(keras.layers.BatchNormalization())\n",
    "    model.add(keras.layers.Activation('relu'))\n",
    "    model.add(keras.layers.Dropout(0.2))\n",
    "    \n",
    "    # output layer\n",
    "    model.add(keras.layers.Dense(1, activation = 'sigmoid'))\n",
    "    \n",
    "    # compile the model\n",
    "    model.compile(loss = 'binary_crossentropy', optimizer = 'adam', metrics = ['accuracy'])\n",
    "    return model"
   ]
  },
  {
   "cell_type": "code",
   "execution_count": null,
   "metadata": {},
   "outputs": [],
   "source": [
    "# Criando 3 diretórios para as imagens\n",
    "train_path = '../input/chest-xray-pneumonia/chest_xray/train/'\n",
    "test_path  = '../input/chest-xray-pneumonia/chest_xray/test/'\n",
    "eval_path  = '../input/chest-xray-pneumonia/chest_xray/val/'"
   ]
  },
  {
   "cell_type": "code",
   "execution_count": null,
   "metadata": {},
   "outputs": [],
   "source": [
    "import os\n",
    "\n",
    "# Método que lê as imagens\n",
    "def give_set (path) :\n",
    "    \n",
    "    X = []\n",
    "    y = []\n",
    "    for label in os.listdir(path) :\n",
    "        for img in os.listdir(path+label+'/')[:500] :\n",
    "            image = keras.preprocessing.image.load_img(path+label+'/'+img, color_mode = 'grayscale', target_size = (128,128))\n",
    "            X.append(keras.preprocessing.image.img_to_array(image))\n",
    "            y.append(1 if label == 'PNEUMONIA' else 0)\n",
    "    X = np.array(X, dtype = float)\n",
    "    y = np.array(y)\n",
    "    return X, y"
   ]
  },
  {
   "cell_type": "code",
   "execution_count": null,
   "metadata": {},
   "outputs": [],
   "source": [
    "X_train, y_train = give_set(train_path)\n",
    "X_eval, y_eval = give_set(eval_path)\n",
    "X_test, y_test = give_set(test_path)"
   ]
  },
  {
   "cell_type": "code",
   "execution_count": null,
   "metadata": {},
   "outputs": [],
   "source": [
    "X_train /= 255.0 # Normalizando os dados\n",
    "X_eval  /= 255.0 # Normalizando os dados\n",
    "X_test  /= 255.0 # Normalizando os dados"
   ]
  },
  {
   "cell_type": "code",
   "execution_count": null,
   "metadata": {},
   "outputs": [],
   "source": [
    "len(X_train)"
   ]
  },
  {
   "cell_type": "code",
   "execution_count": null,
   "metadata": {},
   "outputs": [],
   "source": [
    "# Gera um y desbalanceado (mais 1s do de 0s)\n",
    "y_train_desbalanceado=y_train[:550]\n",
    "y_train_desbalanceado"
   ]
  },
  {
   "cell_type": "code",
   "execution_count": null,
   "metadata": {},
   "outputs": [],
   "source": [
    "# Gera um y desbalanceado (mais 1s do de 0s)\n",
    "X_train_desbalanceado=X_train[:550]\n"
   ]
  },
  {
   "cell_type": "code",
   "execution_count": null,
   "metadata": {},
   "outputs": [],
   "source": [
    "# Cria modelo\n",
    "model = keras.wrappers.scikit_learn.KerasClassifier(build_fn = modelo, verbose = 1)"
   ]
  },
  {
   "cell_type": "code",
   "execution_count": null,
   "metadata": {},
   "outputs": [],
   "source": [
    "# Treina modelo\n",
    "model.fit(X_train_desbalanceado, y_train_desbalanceado, epochs = 10)"
   ]
  },
  {
   "cell_type": "code",
   "execution_count": 5,
   "metadata": {},
   "outputs": [
    {
     "ename": "NameError",
     "evalue": "name 'model' is not defined",
     "output_type": "error",
     "traceback": [
      "\u001b[1;31m---------------------------------------------------------------------------\u001b[0m",
      "\u001b[1;31mNameError\u001b[0m                                 Traceback (most recent call last)",
      "\u001b[1;32m<ipython-input-5-2e6e535855da>\u001b[0m in \u001b[0;36m<module>\u001b[1;34m\u001b[0m\n\u001b[0;32m      1\u001b[0m \u001b[1;31m# Faz a predição do modelo\u001b[0m\u001b[1;33m\u001b[0m\u001b[1;33m\u001b[0m\u001b[1;33m\u001b[0m\u001b[0m\n\u001b[1;32m----> 2\u001b[1;33m \u001b[0my_pred\u001b[0m\u001b[1;33m=\u001b[0m\u001b[0mmodel\u001b[0m\u001b[1;33m.\u001b[0m\u001b[0mpredict\u001b[0m\u001b[1;33m(\u001b[0m\u001b[0mX_test\u001b[0m\u001b[1;33m)\u001b[0m\u001b[1;33m\u001b[0m\u001b[1;33m\u001b[0m\u001b[0m\n\u001b[0m",
      "\u001b[1;31mNameError\u001b[0m: name 'model' is not defined"
     ]
    }
   ],
   "source": [
    "# Faz a predição do modelo\n",
    "y_pred=model.predict(X_test)"
   ]
  },
  {
   "cell_type": "code",
   "execution_count": null,
   "metadata": {},
   "outputs": [],
   "source": [
    "y_pred_=[y[0] for y in y_pred]"
   ]
  },
  {
   "cell_type": "code",
   "execution_count": null,
   "metadata": {},
   "outputs": [],
   "source": [
    "from sklearn.metrics import accuracy_score\n",
    "accuracy_score(y_test,y_pred_)"
   ]
  },
  {
   "cell_type": "code",
   "execution_count": null,
   "metadata": {},
   "outputs": [],
   "source": [
    "y_train_balanceado=y_train\n",
    "y_train_balanceado"
   ]
  },
  {
   "cell_type": "code",
   "execution_count": null,
   "metadata": {},
   "outputs": [],
   "source": [
    "X_train_balanceado=X_train\n"
   ]
  },
  {
   "cell_type": "code",
   "execution_count": null,
   "metadata": {},
   "outputs": [],
   "source": [
    "model = keras.wrappers.scikit_learn.KerasClassifier(build_fn = modelo, verbose = 1)"
   ]
  },
  {
   "cell_type": "code",
   "execution_count": null,
   "metadata": {},
   "outputs": [],
   "source": [
    "model.fit(X_train_balanceado, y_train_balanceado, epochs = 10)"
   ]
  },
  {
   "cell_type": "code",
   "execution_count": null,
   "metadata": {},
   "outputs": [],
   "source": [
    "y_pred=model.predict(X_test)"
   ]
  },
  {
   "cell_type": "code",
   "execution_count": null,
   "metadata": {},
   "outputs": [],
   "source": [
    "y_pred_=[y[0] for y in y_pred]\n",
    "#y_pred_"
   ]
  },
  {
   "cell_type": "code",
   "execution_count": null,
   "metadata": {},
   "outputs": [],
   "source": [
    "from sklearn.metrics import accuracy_score\n",
    "accuracy_score(y_test,y_pred_)"
   ]
  },
  {
   "cell_type": "code",
   "execution_count": null,
   "metadata": {},
   "outputs": [],
   "source": []
  }
 ],
 "metadata": {
  "kernelspec": {
   "display_name": "Python 3",
   "language": "python",
   "name": "python3"
  },
  "language_info": {
   "codemirror_mode": {
    "name": "ipython",
    "version": 3
   },
   "file_extension": ".py",
   "mimetype": "text/x-python",
   "name": "python",
   "nbconvert_exporter": "python",
   "pygments_lexer": "ipython3",
   "version": "3.8.5"
  }
 },
 "nbformat": 4,
 "nbformat_minor": 4
}
